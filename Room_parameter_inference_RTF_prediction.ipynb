{
 "cells": [
  {
   "cell_type": "markdown",
   "id": "13d344a7",
   "metadata": {},
   "source": [
    "# Load model and prediction using measurements"
   ]
  },
  {
   "cell_type": "code",
   "execution_count": 4,
   "id": "759a7af5",
   "metadata": {},
   "outputs": [],
   "source": [
    "import numpy as np\n",
    "from keras import models"
   ]
  },
  {
   "cell_type": "code",
   "execution_count": 11,
   "id": "a0a97715",
   "metadata": {},
   "outputs": [],
   "source": [
    "# Measured frequency respoinse\n",
    "x = np.array([ 91.938,  95.764, 113.77 ,  93.617,  86.144,  81.408,  77.811,\n",
    "        74.847,  72.286,  70.   ,  67.91 ,  65.959,  64.108,  62.322,\n",
    "        60.572,  58.829,  57.062,  55.236,  53.303,  51.198,  48.817,\n",
    "        45.973,  42.266,  36.537,  20.317,  33.082,  39.662,  43.266,\n",
    "        45.775,  47.739,  49.405,  50.93 ,  52.588,  52.625,  54.581,\n",
    "        56.234,  58.16 ,  60.767,  65.183,  78.727,  64.349,  54.768,\n",
    "        45.671,  28.424,  42.06 ,  46.919,  49.621,  51.515,  53.02 ,\n",
    "        54.319,  55.518,  56.716,  57.644,  58.827,  60.063,  61.427,\n",
    "        63.007,  64.962,  67.634,  72.017,  80.686,  69.71 ,  58.613,\n",
    "        51.22 ,  61.685,  69.615,  81.157,  71.641,  64.763,  58.893,\n",
    "        53.413,  65.032,  70.082,  64.144,  59.606,  54.273,  57.319,\n",
    "        70.879,  69.275,  61.753,  44.011,  40.861,  46.669,  51.364,\n",
    "        55.407,  59.206,  63.17 ,  67.691,  71.636,  74.514,  72.145,\n",
    "        69.016,  66.565,  64.588,  62.896,  61.825,  63.739,  68.634,\n",
    "        69.429,  65.367,  63.509,  63.896,  64.037,  61.251,  57.026,\n",
    "        55.231,  55.184,  55.595,  56.   ,  56.376,  56.774,  57.233,\n",
    "        57.798,  58.523,  59.516,  60.989,  62.876,  64.913,  66.152,\n",
    "        64.857,  61.927,  58.431,  55.096,  53.221,  52.356,  52.073,\n",
    "        52.149,  52.195,  52.322,  53.255,  54.561,  55.373,  54.75 ,\n",
    "        53.502,  53.237,  54.063,  55.481,  56.798,  57.011,  56.225,\n",
    "        56.503,  58.407,  61.173,  64.345,  67.203,  68.046,  66.896,\n",
    "        65.806,  65.288,  65.799,  67.186,  67.419,  66.743,  65.978,\n",
    "        65.364,  64.921,  64.61 ,  64.348,  64.022,  63.7  ,  63.691,\n",
    "        64.095,  64.811,  65.703,  66.269,  65.11 ,  62.292,  60.92 ,\n",
    "        60.496,  57.608,  53.005,  49.593,  49.302,  50.566,  52.015,\n",
    "        53.795,  56.033,  57.74 ,  59.288,  60.855,  62.086,  62.035,\n",
    "        59.914,  56.84 ,  54.243,  52.633,  51.906,  53.079,  55.754,\n",
    "        57.311,  58.122,  58.741,  59.242,  59.426,  59.084,  58.385,\n",
    "        57.43 ,  56.257,  55.117,  54.359,  54.354,  55.124,  56.372,\n",
    "        57.896,  59.661,  61.681,  63.657,  63.683,  57.916,  48.052,\n",
    "        55.687,  58.306,  61.573,  65.249,  67.5  ,  69.165,  70.472,\n",
    "        71.98 ,  72.737,  70.601,  67.223,  64.156,  62.423,  63.301,\n",
    "        64.486,  63.487,  61.995,  60.791,  59.875,  59.209,  58.829,\n",
    "        58.537,  57.652,  56.303,  54.796,  53.445,  52.744,  53.153,\n",
    "        54.408,  55.461,  55.404,  53.947,  54.376,  57.676,  59.823,\n",
    "        62.183,  65.516,  69.367,  71.714,  70.367,  67.98 ,  66.038,\n",
    "        64.608,  63.547,  62.787,  62.795,  64.225,  64.966,  64.165,\n",
    "        63.141,  62.111,  61.008,  59.805,  59.035,  60.915,  62.733,\n",
    "        62.441,  62.255,  62.703,  63.032,  62.758,  62.376,  62.132,\n",
    "        62.126,  62.311,  62.529,  61.275,  59.413,  59.219,  58.555,\n",
    "        57.827,  58.101,  60.429,  63.027,  63.608,  64.068,  64.928,\n",
    "        64.853,  58.562,  48.66 ,  51.136,  63.862,  67.954,  68.516,\n",
    "        69.379,  70.059,  66.592,  61.337,  57.973,  56.742,  56.553,\n",
    "        56.771,  56.298,  55.167,  54.1  ,  53.359,  53.95 ,  56.403,\n",
    "        58.709,  60.374,  60.476,  59.414,  59.205,  58.814,  58.997,\n",
    "        59.952,  61.97 ,  65.445,  67.648,  65.038,  59.596,  54.294,\n",
    "        57.095,  57.928,  57.824,  57.508,  57.406,  58.419,  59.066,\n",
    "        56.695,  55.391,  55.392,  55.924,  56.624,  58.593,  60.149,\n",
    "        57.659,  55.028,  53.387,  52.663,  52.569,  52.487,  51.378,\n",
    "        48.641,  52.866,  55.344,  55.065,  56.425,  56.72 ,  56.227,\n",
    "        56.257,  58.569,  61.618,  65.333])\n",
    "x = np.expand_dims(x,axis=0)\n",
    "# Load model\n",
    "model = models.load_model('ResNet_18_1.h5')"
   ]
  },
  {
   "cell_type": "code",
   "execution_count": 13,
   "id": "0602ddb2",
   "metadata": {
    "code_folding": [],
    "scrolled": true
   },
   "outputs": [
    {
     "name": "stdout",
     "output_type": "stream",
     "text": [
      "Generate a prediction\n",
      "1/1 [==============================] - 0s 29ms/step\n",
      "\n",
      " Predicted absorption coeffcient for surface 1\n",
      "[0.0100753] [0.02878944] [0.04764291]\n",
      "\n",
      " Absorption coeffcient for surface 2\n",
      "[0.00995369] [0.02915183] [0.04875]\n",
      "\n",
      " Absorption coeffcient for surface 3\n",
      "[0.06173709] [0.27249718] [0.6495483]\n",
      "\n",
      "\n",
      " Absorption coeffcient for surface 4\n",
      "[0.01041403] [0.0281917] [0.04938382]\n",
      "\n",
      " Absorption coeffcient for surface 5\n",
      "[0.01001709] [0.02909633] [0.04838115]\n",
      "\n",
      " Absorption coeffcient for surface 6\n",
      "[0.01008089] [0.02863292] [0.04812461]\n"
     ]
    }
   ],
   "source": [
    "# Generate a prediction using model.predict() \n",
    "# and calculate it's shape:\n",
    "print(\"Generate a prediction\")\n",
    "prediction = model.predict(x)\n",
    "\n",
    "print(\"\\n Predicted absorption coeffcient for surface 1\")\n",
    "print(prediction[0][0],prediction[6][0],prediction[12][0])\n",
    "# print(\" real absorption coeffcient for surface 1\")\n",
    "# print(y_test_ac1_63[0],y_test_ac1_125[0],y_test_ac1_250[0])\n",
    "\n",
    "print(\"\\n Absorption coeffcient for surface 2\")\n",
    "print(prediction[1][0],prediction[7][0],prediction[13][0])\n",
    "# print(\" real absorption coeffcient for surface 2\")\n",
    "# print(y_test_ac2_63[0],y_test_ac2_125[0],y_test_ac2_250[0])\n",
    "\n",
    "\n",
    "print(\"\\n Absorption coeffcient for surface 3\")\n",
    "print(prediction[2][0],prediction[8][0],prediction[14][0])\n",
    "# print(\" real absorption coeffcient for surface 3\")\n",
    "# print(y_test_ac3_63[0],y_test_ac3_125[0],y_test_ac3_250[0])\n",
    "\n",
    "print(\"\\n\\n Absorption coeffcient for surface 4\")\n",
    "print(prediction[3][0],prediction[9][0],prediction[15][0])\n",
    "# print(\" real absorption coeffcient for surface 4\")\n",
    "# print(y_test_ac4_63[0],y_test_ac4_125[0],y_test_ac4_250[0])\n",
    "\n",
    "print(\"\\n Absorption coeffcient for surface 5\")\n",
    "print(prediction[4][0],prediction[10][0],prediction[16][0])\n",
    "# print(\" real absorption coeffcient for surface 5\")\n",
    "# print(y_test_ac5_63[0],y_test_ac5_125[0],y_test_ac5_250[0])\n",
    "\n",
    "print(\"\\n Absorption coeffcient for surface 6\")\n",
    "print(prediction[5][0],prediction[11][0],prediction[17][0])\n",
    "# print(\" real absorption coeffcient for surface 6\")\n",
    "# print(y_test_ac6_63[0],y_test_ac6_125[0],y_test_ac6_250[0])\n"
   ]
  },
  {
   "cell_type": "markdown",
   "id": "82d63ab6",
   "metadata": {},
   "source": [
    "# Loss increase with frequency"
   ]
  },
  {
   "cell_type": "code",
   "execution_count": 14,
   "id": "72e83971",
   "metadata": {
    "scrolled": false
   },
   "outputs": [
    {
     "ename": "NameError",
     "evalue": "name 'results' is not defined",
     "output_type": "error",
     "traceback": [
      "\u001b[1;31m---------------------------------------------------------------------------\u001b[0m",
      "\u001b[1;31mNameError\u001b[0m                                 Traceback (most recent call last)",
      "\u001b[1;32m~\\AppData\\Local\\Temp\\ipykernel_23040\\721530113.py\u001b[0m in \u001b[0;36m<module>\u001b[1;34m\u001b[0m\n\u001b[0;32m      1\u001b[0m \u001b[0mfreq\u001b[0m \u001b[1;33m=\u001b[0m \u001b[1;33m[\u001b[0m\u001b[1;36m63\u001b[0m\u001b[1;33m,\u001b[0m\u001b[1;36m125\u001b[0m\u001b[1;33m,\u001b[0m\u001b[1;36m250\u001b[0m\u001b[1;33m]\u001b[0m\u001b[1;33m\u001b[0m\u001b[1;33m\u001b[0m\u001b[0m\n\u001b[0;32m      2\u001b[0m \u001b[0mlabels\u001b[0m \u001b[1;33m=\u001b[0m \u001b[1;33m[\u001b[0m\u001b[1;34m'63'\u001b[0m\u001b[1;33m,\u001b[0m \u001b[1;34m'125'\u001b[0m\u001b[1;33m,\u001b[0m \u001b[1;34m'250'\u001b[0m\u001b[1;33m]\u001b[0m\u001b[1;33m\u001b[0m\u001b[1;33m\u001b[0m\u001b[0m\n\u001b[1;32m----> 3\u001b[1;33m \u001b[0ms1\u001b[0m \u001b[1;33m=\u001b[0m \u001b[1;33m[\u001b[0m\u001b[0mresults\u001b[0m\u001b[1;33m[\u001b[0m\u001b[1;36m1\u001b[0m\u001b[1;33m]\u001b[0m\u001b[1;33m,\u001b[0m\u001b[0mresults\u001b[0m\u001b[1;33m[\u001b[0m\u001b[1;36m7\u001b[0m\u001b[1;33m]\u001b[0m\u001b[1;33m,\u001b[0m\u001b[0mresults\u001b[0m\u001b[1;33m[\u001b[0m\u001b[1;36m13\u001b[0m\u001b[1;33m]\u001b[0m\u001b[1;33m]\u001b[0m\u001b[1;33m\u001b[0m\u001b[1;33m\u001b[0m\u001b[0m\n\u001b[0m\u001b[0;32m      4\u001b[0m \u001b[0ms2\u001b[0m \u001b[1;33m=\u001b[0m \u001b[1;33m[\u001b[0m\u001b[0mresults\u001b[0m\u001b[1;33m[\u001b[0m\u001b[1;36m2\u001b[0m\u001b[1;33m]\u001b[0m\u001b[1;33m,\u001b[0m\u001b[0mresults\u001b[0m\u001b[1;33m[\u001b[0m\u001b[1;36m8\u001b[0m\u001b[1;33m]\u001b[0m\u001b[1;33m,\u001b[0m\u001b[0mresults\u001b[0m\u001b[1;33m[\u001b[0m\u001b[1;36m14\u001b[0m\u001b[1;33m]\u001b[0m\u001b[1;33m]\u001b[0m\u001b[1;33m\u001b[0m\u001b[1;33m\u001b[0m\u001b[0m\n\u001b[0;32m      5\u001b[0m \u001b[0ms3\u001b[0m \u001b[1;33m=\u001b[0m \u001b[1;33m[\u001b[0m\u001b[0mresults\u001b[0m\u001b[1;33m[\u001b[0m\u001b[1;36m3\u001b[0m\u001b[1;33m]\u001b[0m\u001b[1;33m,\u001b[0m\u001b[0mresults\u001b[0m\u001b[1;33m[\u001b[0m\u001b[1;36m9\u001b[0m\u001b[1;33m]\u001b[0m\u001b[1;33m,\u001b[0m\u001b[0mresults\u001b[0m\u001b[1;33m[\u001b[0m\u001b[1;36m15\u001b[0m\u001b[1;33m]\u001b[0m\u001b[1;33m]\u001b[0m\u001b[1;33m\u001b[0m\u001b[1;33m\u001b[0m\u001b[0m\n",
      "\u001b[1;31mNameError\u001b[0m: name 'results' is not defined"
     ]
    }
   ],
   "source": [
    "freq = [63,125,250]\n",
    "labels = ['63', '125', '250']\n",
    "s1 = [results[1],results[7],results[13]]\n",
    "s2 = [results[2],results[8],results[14]]\n",
    "s3 = [results[3],results[9],results[15]]\n",
    "s4 = [results[4],results[10],results[16]]\n",
    "s5 = [results[5],results[11],results[17]]\n",
    "s6 = [results[6],results[12],results[18]]\n",
    "\n",
    "plt.plot(freq,s1)\n",
    "plt.plot(freq,s2)\n",
    "plt.plot(freq,s3)\n",
    "plt.plot(freq,s4)\n",
    "plt.plot(freq,s5)\n",
    "plt.plot(freq,s6)\n",
    "plt.xlabel('Frequency[Hz]')\n",
    "plt.ylabel('Loss')\n",
    "plt.legend(['Surface 1','Surface 2','Surface 3','Surface 4','Surface 5','Surface 6'])\n",
    "plt.xticks(freq,labels)"
   ]
  }
 ],
 "metadata": {
  "kernelspec": {
   "display_name": "Python 3 (ipykernel)",
   "language": "python",
   "name": "python3"
  },
  "language_info": {
   "codemirror_mode": {
    "name": "ipython",
    "version": 3
   },
   "file_extension": ".py",
   "mimetype": "text/x-python",
   "name": "python",
   "nbconvert_exporter": "python",
   "pygments_lexer": "ipython3",
   "version": "3.9.13"
  },
  "toc": {
   "base_numbering": 1,
   "nav_menu": {},
   "number_sections": true,
   "sideBar": true,
   "skip_h1_title": false,
   "title_cell": "Table of Contents",
   "title_sidebar": "Contents",
   "toc_cell": false,
   "toc_position": {},
   "toc_section_display": true,
   "toc_window_display": false
  },
  "varInspector": {
   "cols": {
    "lenName": 16,
    "lenType": 16,
    "lenVar": 40
   },
   "kernels_config": {
    "python": {
     "delete_cmd_postfix": "",
     "delete_cmd_prefix": "del ",
     "library": "var_list.py",
     "varRefreshCmd": "print(var_dic_list())"
    },
    "r": {
     "delete_cmd_postfix": ") ",
     "delete_cmd_prefix": "rm(",
     "library": "var_list.r",
     "varRefreshCmd": "cat(var_dic_list()) "
    }
   },
   "types_to_exclude": [
    "module",
    "function",
    "builtin_function_or_method",
    "instance",
    "_Feature"
   ],
   "window_display": false
  }
 },
 "nbformat": 4,
 "nbformat_minor": 5
}
